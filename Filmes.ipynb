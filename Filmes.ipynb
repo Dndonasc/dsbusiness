{
  "nbformat": 4,
  "nbformat_minor": 0,
  "metadata": {
    "colab": {
      "provenance": [],
      "authorship_tag": "ABX9TyNerFANlOz/Dlr6r/cOknRV",
      "include_colab_link": true
    },
    "kernelspec": {
      "name": "python3",
      "display_name": "Python 3"
    },
    "language_info": {
      "name": "python"
    }
  },
  "cells": [
    {
      "cell_type": "markdown",
      "metadata": {
        "id": "view-in-github",
        "colab_type": "text"
      },
      "source": [
        "<a href=\"https://colab.research.google.com/github/Dndonasc/dsbusiness/blob/main/Filmes.ipynb\" target=\"_parent\"><img src=\"https://colab.research.google.com/assets/colab-badge.svg\" alt=\"Open In Colab\"/></a>"
      ]
    },
    {
      "cell_type": "code",
      "execution_count": 22,
      "metadata": {
        "id": "pz0ml7W8CwU5"
      },
      "outputs": [],
      "source": [
        "import pandas as pd\n",
        "\n",
        "# Definindo a fonte do arquivo\n",
        "url = \"https://raw.githubusercontent.com/Dndonasc/introducao-a-data-science/master/aula0/ml-latest-small/movies.csv\"\n",
        "\n",
        "# Função do Pandas para abrir o arquivo\n",
        "filmes = pd.read_csv(url)\n",
        "\n",
        "# Definindo a fonte do arquivo\n",
        "url_2 = \"https://raw.githubusercontent.com/cesarhcq/introducao-a-data-science/master/aula4.1/ratings.csv\"\n",
        "\n",
        "# Função do Pandas para abrir o arquivo\n",
        "notas_filmes = pd.read_csv(url_2)\n",
        "\n",
        "# Junta os dataframes usando a coluna \"movieId\" em comum\n",
        "result = pd.merge(filmes, notas_filmes, on=\"movieId\")\n",
        "\n",
        "result.head()\n",
        "\n",
        "media_por_filme = result.groupby(\"title\")[\"rating\"].mean()\n",
        "\n",
        "media_por_filme.head()\n",
        "\n",
        "media_por_filme.to_excel(\"/content/Teste/rating2.xlsx\")\n",
        "\n"
      ]
    }
  ]
}