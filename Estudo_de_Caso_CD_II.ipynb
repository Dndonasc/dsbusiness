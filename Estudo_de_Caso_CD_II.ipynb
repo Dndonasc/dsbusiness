{
  "nbformat": 4,
  "nbformat_minor": 0,
  "metadata": {
    "colab": {
      "provenance": [],
      "authorship_tag": "ABX9TyMV3c5g6FkOqZYa0HxLC292",
      "include_colab_link": true
    },
    "kernelspec": {
      "name": "python3",
      "display_name": "Python 3"
    },
    "language_info": {
      "name": "python"
    }
  },
  "cells": [
    {
      "cell_type": "markdown",
      "metadata": {
        "id": "view-in-github",
        "colab_type": "text"
      },
      "source": [
        "<a href=\"https://colab.research.google.com/github/Dndonasc/dsbusiness/blob/main/Estudo_de_Caso_CD_II.ipynb\" target=\"_parent\"><img src=\"https://colab.research.google.com/assets/colab-badge.svg\" alt=\"Open In Colab\"/></a>"
      ]
    },
    {
      "cell_type": "code",
      "source": [
        "import pandas as pd\n",
        "import numpy as np\n",
        "from sklearn.linear_model import LinearRegression\n",
        "import matplotlib.pyplot as plt\n",
        "\n",
        "# Lê o arquivo CSV para um dataframe\n",
        "base_dados = pd.read_csv('baseforumcsv.csv', delimiter=';')\n",
        "\n",
        "# Exclui linhas que contém valores zero em todas as colunas\n",
        "#base_dados = base_dados[base_dados['TOTAL DE PESSOAS QUE FIZERAM O TRATAMENTO'] != 0]\n",
        "\n",
        "#numeric_cols = base_dados.select_dtypes(include=np.number).columns\n",
        "#base_dados[numeric_cols] = base_dados[numeric_cols].fillna(base_dados[numeric_cols].mean())\n",
        "\n",
        "\n",
        "x = base_dados['TOTAL DE PESSOAS QUE FIZERAM O TRATAMENTO'].values.reshape(-1, 1)\n",
        "y = base_dados['TOTAL DE CURADOS'].values.reshape(-1, 1)\n",
        "\n",
        "reg = LinearRegression()\n",
        "reg.fit(x, y)\n",
        "\n",
        "y_pred = reg.predict(x)\n",
        "\n",
        "#print('Coeficiente: \\n', reg.coef_)\n",
        "#print('Intercepto: \\n', reg.intercept_)\n",
        "\n",
        "correlacao = base_dados['TOTAL DE PESSOAS QUE FIZERAM O TRATAMENTO'].corr(base_dados['TOTAL DE CURADOS'])\n",
        "print('Correlação:', correlacao)\n",
        "\n",
        "media = base_dados['TOTAL DE PESSOAS QUE FIZERAM O TRATAMENTO'].mean()\n",
        "print('Média:', media)\n",
        "\n",
        "desvio_padrao = np.std(base_dados['TOTAL DE PESSOAS QUE FIZERAM O TRATAMENTO'])\n",
        "print('Desvio padrão:', desvio_padrao)\n",
        "\n",
        "plt.scatter(x, y)\n",
        "plt.plot(x, y_pred, color='red')\n",
        "plt.show()\n",
        "\n",
        "\n"
      ],
      "metadata": {
        "colab": {
          "base_uri": "https://localhost:8080/",
          "height": 319
        },
        "id": "FMJ7nOD9NjkL",
        "outputId": "572039ac-6720-42ef-92b1-c7c6cc0ce430"
      },
      "execution_count": 8,
      "outputs": [
        {
          "output_type": "stream",
          "name": "stdout",
          "text": [
            "Correlação: 0.36485752284911116\n",
            "Média: 4718.8\n",
            "Desvio padrão: 5050.3506175314205\n"
          ]
        },
        {
          "output_type": "display_data",
          "data": {
            "text/plain": [
              "<Figure size 432x288 with 1 Axes>"
            ],
            "image/png": "[encoded data removed]"
          },
          "metadata": {
            "needs_background": "light"
          }
        }
      ]
    }
  ]
}