{
  "nbformat": 4,
  "nbformat_minor": 0,
  "metadata": {
    "colab": {
      "provenance": [],
      "authorship_tag": "ABX9TyN1K/4zetbxXMCWjrW+4xPT",
      "include_colab_link": true
    },
    "kernelspec": {
      "name": "python3",
      "display_name": "Python 3"
    },
    "language_info": {
      "name": "python"
    }
  },
  "cells": [
    {
      "cell_type": "markdown",
      "metadata": {
        "id": "view-in-github",
        "colab_type": "text"
      },
      "source": [
        "<a href=\"https://colab.research.google.com/github/Dndonasc/dsbusiness/blob/main/estudo_de_caso_cd_ii.ipynb\" target=\"_parent\"><img src=\"https://colab.research.google.com/assets/colab-badge.svg\" alt=\"Open In Colab\"/></a>"
      ]
    },
    {
      "cell_type": "code",
      "execution_count": null,
      "metadata": {
        "id": "xsz293Yx87C7",
        "colab": {
          "base_uri": "https://localhost:8080/",
          "height": 206
        },
        "outputId": "469e3446-e22f-403d-b56c-d33f11f81a3e"
      },
      "outputs": [
        {
          "output_type": "execute_result",
          "data": {
            "text/plain": [
              "           CIDADE  TOTAL DE DOENTES  TOTAL DE CURADOS  \\\n",
              "0       Sao Paulo             19045             12345   \n",
              "1  Rio de Janeiro                 0             10890   \n",
              "2     Joao Pessoa              8901              5467   \n",
              "3    Porto Alegre             13467                 0   \n",
              "4          Manaus             14569                 0   \n",
              "\n",
              "   TOTAL DE PESSOAS QUE FIZERAM O TRATAMENTO  \n",
              "0                                          0  \n",
              "1                                      13549  \n",
              "2                                       6578  \n",
              "3                                       3467  \n",
              "4                                          0  "
            ],
            "text/html": [
              "\n",
              "  <div id=\"df-60765ce9-528f-4919-a3f6-11d3cfd5e5e2\">\n",
              "    <div class=\"colab-df-container\">\n",
              "      <div>\n",
              "<style scoped>\n",
              "    .dataframe tbody tr th:only-of-type {\n",
              "        vertical-align: middle;\n",
              "    }\n",
              "\n",
              "    .dataframe tbody tr th {\n",
              "        vertical-align: top;\n",
              "    }\n",
              "\n",
              "    .dataframe thead th {\n",
              "        text-align: right;\n",
              "    }\n",
              "</style>\n",
              "<table border=\"1\" class=\"dataframe\">\n",
              "  <thead>\n",
              "    <tr style=\"text-align: right;\">\n",
              "      <th></th>\n",
              "      <th>CIDADE</th>\n",
              "      <th>TOTAL DE DOENTES</th>\n",
              "      <th>TOTAL DE CURADOS</th>\n",
              "      <th>TOTAL DE PESSOAS QUE FIZERAM O TRATAMENTO</th>\n",
              "    </tr>\n",
              "  </thead>\n",
              "  <tbody>\n",
              "    <tr>\n",
              "      <th>0</th>\n",
              "      <td>Sao Paulo</td>\n",
              "      <td>19045</td>\n",
              "      <td>12345</td>\n",
              "      <td>0</td>\n",
              "    </tr>\n",
              "    <tr>\n",
              "      <th>1</th>\n",
              "      <td>Rio de Janeiro</td>\n",
              "      <td>0</td>\n",
              "      <td>10890</td>\n",
              "      <td>13549</td>\n",
              "    </tr>\n",
              "    <tr>\n",
              "      <th>2</th>\n",
              "      <td>Joao Pessoa</td>\n",
              "      <td>8901</td>\n",
              "      <td>5467</td>\n",
              "      <td>6578</td>\n",
              "    </tr>\n",
              "    <tr>\n",
              "      <th>3</th>\n",
              "      <td>Porto Alegre</td>\n",
              "      <td>13467</td>\n",
              "      <td>0</td>\n",
              "      <td>3467</td>\n",
              "    </tr>\n",
              "    <tr>\n",
              "      <th>4</th>\n",
              "      <td>Manaus</td>\n",
              "      <td>14569</td>\n",
              "      <td>0</td>\n",
              "      <td>0</td>\n",
              "    </tr>\n",
              "  </tbody>\n",
              "</table>\n",
              "</div>\n",
              "      <button class=\"colab-df-convert\" onclick=\"convertToInteractive('df-60765ce9-528f-4919-a3f6-11d3cfd5e5e2')\"\n",
              "              title=\"Convert this dataframe to an interactive table.\"\n",
              "              style=\"display:none;\">\n",
              "        \n",
              "  <svg xmlns=\"http://www.w3.org/2000/svg\" height=\"24px\"viewBox=\"0 0 24 24\"\n",
              "       width=\"24px\">\n",
              "    <path d=\"M0 0h24v24H0V0z\" fill=\"none\"/>\n",
              "    <path d=\"M18.56 5.44l.94 2.06.94-2.06 2.06-.94-2.06-.94-.94-2.06-.94 2.06-2.06.94zm-11 1L8.5 8.5l.94-2.06 2.06-.94-2.06-.94L8.5 2.5l-.94 2.06-2.06.94zm10 10l.94 2.06.94-2.06 2.06-.94-2.06-.94-.94-2.06-.94 2.06-2.06.94z\"/><path d=\"M17.41 7.96l-1.37-1.37c-.4-.4-.92-.59-1.43-.59-.52 0-1.04.2-1.43.59L10.3 9.45l-7.72 7.72c-.78.78-.78 2.05 0 2.83L4 21.41c.39.39.9.59 1.41.59.51 0 1.02-.2 1.41-.59l7.78-7.78 2.81-2.81c.8-.78.8-2.07 0-2.86zM5.41 20L4 18.59l7.72-7.72 1.47 1.35L5.41 20z\"/>\n",
              "  </svg>\n",
              "      </button>\n",
              "      \n",
              "  <style>\n",
              "    .colab-df-container {\n",
              "      display:flex;\n",
              "      flex-wrap:wrap;\n",
              "      gap: 12px;\n",
              "    }\n",
              "\n",
              "    .colab-df-convert {\n",
              "      background-color: #E8F0FE;\n",
              "      border: none;\n",
              "      border-radius: 50%;\n",
              "      cursor: pointer;\n",
              "      display: none;\n",
              "      fill: #1967D2;\n",
              "      height: 32px;\n",
              "      padding: 0 0 0 0;\n",
              "      width: 32px;\n",
              "    }\n",
              "\n",
              "    .colab-df-convert:hover {\n",
              "      background-color: #E2EBFA;\n",
              "      box-shadow: 0px 1px 2px rgba(60, 64, 67, 0.3), 0px 1px 3px 1px rgba(60, 64, 67, 0.15);\n",
              "      fill: #174EA6;\n",
              "    }\n",
              "\n",
              "    [theme=dark] .colab-df-convert {\n",
              "      background-color: #3B4455;\n",
              "      fill: #D2E3FC;\n",
              "    }\n",
              "\n",
              "    [theme=dark] .colab-df-convert:hover {\n",
              "      background-color: #434B5C;\n",
              "      box-shadow: 0px 1px 3px 1px rgba(0, 0, 0, 0.15);\n",
              "      filter: drop-shadow(0px 1px 2px rgba(0, 0, 0, 0.3));\n",
              "      fill: #FFFFFF;\n",
              "    }\n",
              "  </style>\n",
              "\n",
              "      <script>\n",
              "        const buttonEl =\n",
              "          document.querySelector('#df-60765ce9-528f-4919-a3f6-11d3cfd5e5e2 button.colab-df-convert');\n",
              "        buttonEl.style.display =\n",
              "          google.colab.kernel.accessAllowed ? 'block' : 'none';\n",
              "\n",
              "        async function convertToInteractive(key) {\n",
              "          const element = document.querySelector('#df-60765ce9-528f-4919-a3f6-11d3cfd5e5e2');\n",
              "          const dataTable =\n",
              "            await google.colab.kernel.invokeFunction('convertToInteractive',\n",
              "                                                     [key], {});\n",
              "          if (!dataTable) return;\n",
              "\n",
              "          const docLinkHtml = 'Like what you see? Visit the ' +\n",
              "            '<a target=\"_blank\" href=https://colab.research.google.com/notebooks/data_table.ipynb>data table notebook</a>'\n",
              "            + ' to learn more about interactive tables.';\n",
              "          element.innerHTML = '';\n",
              "          dataTable['output_type'] = 'display_data';\n",
              "          await google.colab.output.renderOutput(dataTable, element);\n",
              "          const docLink = document.createElement('div');\n",
              "          docLink.innerHTML = docLinkHtml;\n",
              "          element.appendChild(docLink);\n",
              "        }\n",
              "      </script>\n",
              "    </div>\n",
              "  </div>\n",
              "  "
            ]
          },
          "metadata": {},
          "execution_count": 21
        }
      ],
      "source": [
        "import pandas as pd\n",
        "\n",
        "base_dados = pd.read_csv('baseforumcsv.csv', delimiter=';')\n",
        "\n",
        "DF = pd.DataFrame(base_dados)\n",
        "\n",
        "DF.head()\n"
      ]
    },
    {
      "cell_type": "code",
      "source": [
        "import pandas as pd\n",
        "\n",
        "# Lê o arquivo CSV para um dataframe\n",
        "base_dados = pd.read_csv('baseforumcsv.csv', delimiter=';')\n",
        "\n",
        "# calcula a mediana\n",
        "mediana = base_dados.iloc[:, 1:].median()\n",
        "\n",
        "# Substitui todos os valores iguais a zero pelo valor da mediana correspondente em cada coluna\n",
        "for coluna in base_dados.columns[1:]:\n",
        "    base_dados[coluna].replace(0, mediana[coluna], inplace=True)\n",
        "\n",
        "print(base_dados)\n"
      ],
      "metadata": {
        "colab": {
          "base_uri": "https://localhost:8080/"
        },
        "id": "WObzbCobHG7o",
        "outputId": "48d84712-3e83-44ff-90e7-1076c9ac4b17"
      },
      "execution_count": null,
      "outputs": [
        {
          "output_type": "stream",
          "name": "stdout",
          "text": [
            "           CIDADE  TOTAL DE DOENTES  TOTAL DE CURADOS  \\\n",
            "0       Sao Paulo             19045             12345   \n",
            "1  Rio de Janeiro             13467             10890   \n",
            "2     Joao Pessoa              8901              5467   \n",
            "3    Porto Alegre             13467              5467   \n",
            "4          Manaus             14569              5467   \n",
            "\n",
            "   TOTAL DE PESSOAS QUE FIZERAM O TRATAMENTO  \n",
            "0                                       3467  \n",
            "1                                      13549  \n",
            "2                                       6578  \n",
            "3                                       3467  \n",
            "4                                       3467  \n"
          ]
        }
      ]
    },
    {
      "cell_type": "code",
      "source": [
        "import pandas as pd\n",
        "\n",
        "# Lê o arquivo CSV para um dataframe\n",
        "base_dados = pd.read_csv('baseforumcsv.csv', delimiter=';')\n",
        "\n",
        "# Excluir valores zerados\n",
        "base_dados.dropna()\n",
        "\n",
        "#Exibir\n",
        "print(base_dados)"
      ],
      "metadata": {
        "colab": {
          "base_uri": "https://localhost:8080/"
        },
        "id": "Jre2pdf3MpxC",
        "outputId": "bd0b9a4f-766f-4432-c48e-eda6003e602d"
      },
      "execution_count": null,
      "outputs": [
        {
          "output_type": "stream",
          "name": "stdout",
          "text": [
            "           CIDADE  TOTAL DE DOENTES  TOTAL DE CURADOS  \\\n",
            "0       Sao Paulo             19045             12345   \n",
            "1  Rio de Janeiro                 0             10890   \n",
            "2     Joao Pessoa              8901              5467   \n",
            "3    Porto Alegre             13467                 0   \n",
            "4          Manaus             14569                 0   \n",
            "\n",
            "   TOTAL DE PESSOAS QUE FIZERAM O TRATAMENTO  \n",
            "0                                          0  \n",
            "1                                      13549  \n",
            "2                                       6578  \n",
            "3                                       3467  \n",
            "4                                          0  \n"
          ]
        }
      ]
    },
    {
      "cell_type": "code",
      "source": [
        "# Lê o arquivo CSV para um dataframe\n",
        "base_dados = pd.read_csv('baseforumcsv.csv', delimiter=';')\n",
        "\n",
        "# Exclui linhas que contém valores zero em todas as colunas\n",
        "base_dados = base_dados[base_dados['TOTAL DE PESSOAS QUE FIZERAM O TRATAMENTO'] != 0]\n",
        "\n",
        "import pandas as pd\n",
        "from sklearn.linear_model import LinearRegression\n",
        "\n",
        "x = base_dados['TOTAL DE PESSOAS QUE FIZERAM O TRATAMENTO'].values.reshape(-1, 1)\n",
        "y = base_dados['TOTAL DE CURADOS'].values.reshape(-1, 1)\n",
        "\n",
        "reg = LinearRegression()\n",
        "reg.fit(x, y)\n",
        "\n",
        "y_pred = reg.predict(x)\n",
        "\n",
        "print('Coeficiente: \\n', reg.coef_)\n",
        "print('Intercepto: \\n', reg.intercept_)\n",
        "\n",
        "correlacao = base_dados['TOTAL DE PESSOAS QUE FIZERAM O TRATAMENTO'].corr(base_dados['TOTAL DE CURADOS'])\n",
        "print(correlacao)\n",
        "\n",
        "import matplotlib.pyplot as plt\n",
        "\n",
        "plt.scatter(x, y)\n",
        "plt.plot(x, y_pred, color='red')\n",
        "plt.show()\n",
        "\n",
        "media = base_dados['TOTAL DE PESSOAS QUE FIZERAM O TRATAMENTO'].mean()\n",
        "print (media)\n",
        "\n",
        "\n"
      ],
      "metadata": {
        "colab": {
          "base_uri": "https://localhost:8080/",
          "height": 372
        },
        "id": "FMJ7nOD9NjkL",
        "outputId": "a0fb7dbc-1d59-4f49-f4a5-b5465ff300e8"
      },
      "execution_count": null,
      "outputs": [
        {
          "output_type": "stream",
          "name": "stdout",
          "text": [
            "Coeficiente: \n",
            " [[1.02929382]]\n",
            "Intercepto: \n",
            " [-2642.71944557]\n",
            "0.9759237995595051\n"
          ]
        },
        {
          "output_type": "display_data",
          "data": {
            "text/plain": [
              "<Figure size 432x288 with 1 Axes>"
            ],
            "image/png": "[encoded data removed]"
          },
          "metadata": {
            "needs_background": "light"
          }
        },
        {
          "output_type": "stream",
          "name": "stdout",
          "text": [
            "7864.666666666667\n"
          ]
        }
      ]
    }
  ]
}